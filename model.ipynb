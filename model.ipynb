{
 "cells": [
  {
   "cell_type": "markdown",
   "id": "7162d892",
   "metadata": {},
   "source": [
    "# Problem Statement:"
   ]
  },
  {
   "cell_type": "markdown",
   "id": "90a4f5db",
   "metadata": {},
   "source": [
    "The objective of this project is to create models around a best fitting line. This will help predict continous values i.e. estimated insurance cost.\n",
    "Based on all past information like age, gender, bmi etc, this project attempts to build a model which will predict how much a particular individual will pay for insurance."
   ]
  },
  {
   "cell_type": "markdown",
   "id": "0ed7eaf5",
   "metadata": {},
   "source": [
    "### This is a regression problem.\n",
    "The task is to predict the \"Response\" variable for each Id in the test set. "
   ]
  },
  {
   "cell_type": "code",
   "execution_count": 1,
   "id": "eb89ec98",
   "metadata": {},
   "outputs": [],
   "source": [
    "# importing important libraries\n",
    "import pandas as pd\n",
    "import numpy as np\n",
    "import matplotlib.pyplot as plt\n",
    "import seaborn as sns\n",
    "import warnings\n",
    "warnings.filterwarnings('ignore')"
   ]
  },
  {
   "cell_type": "code",
   "execution_count": 2,
   "id": "759663d3",
   "metadata": {},
   "outputs": [],
   "source": [
    "# !pip install matplotlib\n",
    "# !pip install seaborn"
   ]
  },
  {
   "cell_type": "code",
   "execution_count": 3,
   "id": "cd4ea873",
   "metadata": {},
   "outputs": [],
   "source": [
    "# ! pip install -U scikit-learn scipy matplotlib"
   ]
  },
  {
   "cell_type": "markdown",
   "id": "6b01df7b",
   "metadata": {},
   "source": [
    "## Loading the dataset"
   ]
  },
  {
   "cell_type": "code",
   "execution_count": 4,
   "id": "d28bc388",
   "metadata": {},
   "outputs": [],
   "source": [
    "df = pd.read_csv(\"insurance1.csv\")"
   ]
  },
  {
   "cell_type": "code",
   "execution_count": 5,
   "id": "0a9ce4f0",
   "metadata": {},
   "outputs": [
    {
     "data": {
      "text/html": [
       "<div>\n",
       "<style scoped>\n",
       "    .dataframe tbody tr th:only-of-type {\n",
       "        vertical-align: middle;\n",
       "    }\n",
       "\n",
       "    .dataframe tbody tr th {\n",
       "        vertical-align: top;\n",
       "    }\n",
       "\n",
       "    .dataframe thead th {\n",
       "        text-align: right;\n",
       "    }\n",
       "</style>\n",
       "<table border=\"1\" class=\"dataframe\">\n",
       "  <thead>\n",
       "    <tr style=\"text-align: right;\">\n",
       "      <th></th>\n",
       "      <th>age</th>\n",
       "      <th>sex</th>\n",
       "      <th>bmi</th>\n",
       "      <th>children</th>\n",
       "      <th>smoker</th>\n",
       "      <th>region</th>\n",
       "      <th>charges</th>\n",
       "    </tr>\n",
       "  </thead>\n",
       "  <tbody>\n",
       "    <tr>\n",
       "      <th>0</th>\n",
       "      <td>19</td>\n",
       "      <td>female</td>\n",
       "      <td>27.900</td>\n",
       "      <td>0</td>\n",
       "      <td>yes</td>\n",
       "      <td>southwest</td>\n",
       "      <td>16884.92400</td>\n",
       "    </tr>\n",
       "    <tr>\n",
       "      <th>1</th>\n",
       "      <td>18</td>\n",
       "      <td>male</td>\n",
       "      <td>33.770</td>\n",
       "      <td>1</td>\n",
       "      <td>no</td>\n",
       "      <td>southeast</td>\n",
       "      <td>1725.55230</td>\n",
       "    </tr>\n",
       "    <tr>\n",
       "      <th>2</th>\n",
       "      <td>28</td>\n",
       "      <td>male</td>\n",
       "      <td>33.000</td>\n",
       "      <td>3</td>\n",
       "      <td>no</td>\n",
       "      <td>southeast</td>\n",
       "      <td>4449.46200</td>\n",
       "    </tr>\n",
       "    <tr>\n",
       "      <th>3</th>\n",
       "      <td>33</td>\n",
       "      <td>male</td>\n",
       "      <td>22.705</td>\n",
       "      <td>0</td>\n",
       "      <td>no</td>\n",
       "      <td>northwest</td>\n",
       "      <td>21984.47061</td>\n",
       "    </tr>\n",
       "    <tr>\n",
       "      <th>4</th>\n",
       "      <td>32</td>\n",
       "      <td>male</td>\n",
       "      <td>28.880</td>\n",
       "      <td>0</td>\n",
       "      <td>no</td>\n",
       "      <td>northwest</td>\n",
       "      <td>3866.85520</td>\n",
       "    </tr>\n",
       "  </tbody>\n",
       "</table>\n",
       "</div>"
      ],
      "text/plain": [
       "   age     sex     bmi  children smoker     region      charges\n",
       "0   19  female  27.900         0    yes  southwest  16884.92400\n",
       "1   18    male  33.770         1     no  southeast   1725.55230\n",
       "2   28    male  33.000         3     no  southeast   4449.46200\n",
       "3   33    male  22.705         0     no  northwest  21984.47061\n",
       "4   32    male  28.880         0     no  northwest   3866.85520"
      ]
     },
     "execution_count": 5,
     "metadata": {},
     "output_type": "execute_result"
    }
   ],
   "source": [
    "# first 5 rows\n",
    "df.head()"
   ]
  },
  {
   "cell_type": "code",
   "execution_count": 6,
   "id": "2044e8d4",
   "metadata": {},
   "outputs": [
    {
     "data": {
      "text/plain": [
       "(1338, 7)"
      ]
     },
     "execution_count": 6,
     "metadata": {},
     "output_type": "execute_result"
    }
   ],
   "source": [
    "df.shape"
   ]
  },
  {
   "cell_type": "code",
   "execution_count": 7,
   "id": "7c33f72f",
   "metadata": {},
   "outputs": [
    {
     "name": "stdout",
     "output_type": "stream",
     "text": [
      "<class 'pandas.core.frame.DataFrame'>\n",
      "RangeIndex: 1338 entries, 0 to 1337\n",
      "Data columns (total 7 columns):\n",
      " #   Column    Non-Null Count  Dtype  \n",
      "---  ------    --------------  -----  \n",
      " 0   age       1338 non-null   int64  \n",
      " 1   sex       1338 non-null   object \n",
      " 2   bmi       1338 non-null   float64\n",
      " 3   children  1338 non-null   int64  \n",
      " 4   smoker    1338 non-null   object \n",
      " 5   region    1338 non-null   object \n",
      " 6   charges   1338 non-null   float64\n",
      "dtypes: float64(2), int64(2), object(3)\n",
      "memory usage: 73.3+ KB\n"
     ]
    }
   ],
   "source": [
    "# datatypes of all columns\n",
    "df.info()"
   ]
  },
  {
   "cell_type": "code",
   "execution_count": 8,
   "id": "dec65471",
   "metadata": {},
   "outputs": [
    {
     "name": "stdout",
     "output_type": "stream",
     "text": [
      "age\n",
      "[19 18 28 33 32 31 46 37 60 25 62 23 56 27 52 30 34 59 63 55 22 26 35 24\n",
      " 41 38 36 21 48 40 58 53 43 64 20 61 44 57 29 45 54 49 47 51 42 50 39]\n",
      "sex\n",
      "['female' 'male']\n",
      "bmi\n",
      "[27.9   33.77  33.    22.705 28.88  25.74  33.44  27.74  29.83  25.84\n",
      " 26.22  26.29  34.4   39.82  42.13  24.6   30.78  23.845 40.3   35.3\n",
      " 36.005 32.4   34.1   31.92  28.025 27.72  23.085 32.775 17.385 36.3\n",
      " 35.6   26.315 28.6   28.31  36.4   20.425 32.965 20.8   36.67  39.9\n",
      " 26.6   36.63  21.78  30.8   37.05  37.3   38.665 34.77  24.53  35.2\n",
      " 35.625 33.63  28.    34.43  28.69  36.955 31.825 31.68  22.88  37.335\n",
      " 27.36  33.66  24.7   25.935 22.42  28.9   39.1   36.19  23.98  24.75\n",
      " 28.5   28.1   32.01  27.4   34.01  29.59  35.53  39.805 26.885 38.285\n",
      " 37.62  41.23  34.8   22.895 31.16  27.2   26.98  39.49  24.795 31.3\n",
      " 38.28  19.95  19.3   31.6   25.46  30.115 29.92  27.5   28.4   30.875\n",
      " 27.94  35.09  29.7   35.72  32.205 28.595 49.06  27.17  23.37  37.1\n",
      " 23.75  28.975 31.35  33.915 28.785 28.3   37.4   17.765 34.7   26.505\n",
      " 22.04  35.9   25.555 28.05  25.175 31.9   36.    32.49  25.3   29.735\n",
      " 38.83  30.495 37.73  37.43  24.13  37.145 39.52  24.42  27.83  36.85\n",
      " 39.6   29.8   29.64  28.215 37.    33.155 18.905 41.47  30.3   15.96\n",
      " 33.345 37.7   27.835 29.2   26.41  30.69  41.895 30.9   32.2   32.11\n",
      " 31.57  26.2   30.59  32.8   18.05  39.33  32.23  24.035 36.08  22.3\n",
      " 26.4   31.8   26.73  23.1   23.21  33.7   33.25  24.64  33.88  38.06\n",
      " 41.91  31.635 36.195 17.8   24.51  22.22  38.39  29.07  22.135 26.8\n",
      " 30.02  35.86  20.9   17.29  34.21  25.365 40.15  24.415 25.2   26.84\n",
      " 24.32  42.35  19.8   32.395 30.2   29.37  34.2   27.455 27.55  20.615\n",
      " 24.3   31.79  21.56  28.12  40.565 27.645 31.2   26.62  48.07  36.765\n",
      " 33.4   45.54  28.82  22.99  27.7   25.41  34.39  22.61  37.51  38.\n",
      " 33.33  34.865 33.06  35.97  31.4   25.27  40.945 34.105 36.48  33.8\n",
      " 36.7   36.385 34.5   32.3   27.6   29.26  35.75  23.18  25.6   35.245\n",
      " 43.89  20.79  30.5   21.7   21.89  24.985 32.015 30.4   21.09  22.23\n",
      " 32.9   24.89  31.46  17.955 30.685 43.34  39.05  30.21  31.445 19.855\n",
      " 31.02  38.17  20.6   47.52  20.4   38.38  24.31  23.6   21.12  30.03\n",
      " 17.48  20.235 17.195 23.9   35.15  35.64  22.6   39.16  27.265 29.165\n",
      " 16.815 33.1   26.9   33.11  31.73  46.75  29.45  32.68  33.5   43.01\n",
      " 36.52  26.695 25.65  29.6   38.6   23.4   46.53  30.14  30.    38.095\n",
      " 28.38  28.7   33.82  24.09  32.67  25.1   32.56  41.325 39.5   34.3\n",
      " 31.065 21.47  25.08  43.4   25.7   27.93  39.2   26.03  30.25  28.93\n",
      " 35.7   35.31  31.    44.22  26.07  25.8   39.425 40.48  38.9   47.41\n",
      " 35.435 46.7   46.2   21.4   23.8   44.77  32.12  29.1   37.29  43.12\n",
      " 36.86  34.295 23.465 45.43  23.65  20.7   28.27  35.91  29.    19.57\n",
      " 31.13  21.85  40.26  33.725 29.48  32.6   37.525 23.655 37.8   19.\n",
      " 21.3   33.535 42.46  38.95  36.1   29.3   39.7   38.19  42.4   34.96\n",
      " 42.68  31.54  29.81  21.375 40.81  17.4   20.3   18.5   26.125 41.69\n",
      " 24.1   36.2   40.185 39.27  34.87  44.745 29.545 23.54  40.47  40.66\n",
      " 36.6   35.4   27.075 28.405 21.755 40.28  30.1   32.1   23.7   35.5\n",
      " 29.15  27.    37.905 22.77  22.8   34.58  27.1   19.475 26.7   34.32\n",
      " 24.4   41.14  22.515 41.8   26.18  42.24  26.51  35.815 41.42  36.575\n",
      " 42.94  21.01  24.225 17.67  31.5   31.1   32.78  32.45  50.38  47.6\n",
      " 25.4   29.9   43.7   24.86  28.8   29.5   29.04  38.94  44.    20.045\n",
      " 40.92  35.1   29.355 32.585 32.34  39.8   24.605 33.99  28.2   25.\n",
      " 33.2   23.2   20.1   32.5   37.18  46.09  39.93  35.8   31.255 18.335\n",
      " 42.9   26.79  39.615 25.9   25.745 28.16  23.56  40.5   35.42  39.995\n",
      " 34.675 20.52  23.275 36.29  32.7   19.19  20.13  23.32  45.32  34.6\n",
      " 18.715 21.565 23.    37.07  52.58  42.655 21.66  32.    18.3   47.74\n",
      " 22.1   19.095 31.24  29.925 20.35  25.85  42.75  18.6   23.87  45.9\n",
      " 21.5   30.305 44.88  41.1   40.37  28.49  33.55  40.375 27.28  17.86\n",
      " 33.3   39.14  21.945 24.97  23.94  34.485 21.8   23.3   36.96  21.28\n",
      " 29.4   27.3   37.9   37.715 23.76  25.52  27.61  27.06  39.4   34.9\n",
      " 22.    30.36  27.8   53.13  39.71  32.87  44.7   30.97 ]\n",
      "children\n",
      "[0 1 3 2 5 4]\n",
      "smoker\n",
      "['yes' 'no']\n",
      "region\n",
      "['southwest' 'southeast' 'northwest' 'northeast']\n",
      "charges\n",
      "[16884.924   1725.5523  4449.462  ...  1629.8335  2007.945  29141.3603]\n"
     ]
    }
   ],
   "source": [
    "# Unique/distinct values in every categorical feature column\n",
    "columns=df.columns\n",
    "columns\n",
    "\n",
    "for col in columns:\n",
    "    print(col)\n",
    "    print(df[col].unique())"
   ]
  },
  {
   "cell_type": "markdown",
   "id": "671f5a1d",
   "metadata": {},
   "source": [
    "## Treating Outliers"
   ]
  },
  {
   "cell_type": "code",
   "execution_count": 9,
   "id": "724209d1",
   "metadata": {},
   "outputs": [
    {
     "data": {
      "image/png": "[encoded data removed]",
      "text/plain": [
       "<Figure size 432x288 with 1 Axes>"
      ]
     },
     "metadata": {
      "needs_background": "light"
     },
     "output_type": "display_data"
    }
   ],
   "source": [
    "sns.boxplot(data = df,x=\"charges\") \n",
    "plt.show()"
   ]
  },
  {
   "cell_type": "code",
   "execution_count": 10,
   "id": "771cac37",
   "metadata": {},
   "outputs": [
    {
     "name": "stdout",
     "output_type": "stream",
     "text": [
      "4740.28715\n",
      "16639.912515\n",
      "11899.625365\n",
      "LF: -13109.1508975 UF: 34489.350562499996\n"
     ]
    }
   ],
   "source": [
    "Q1 = np.percentile(df['charges'],25)\n",
    "Q3 = np.percentile(df['charges'],75)\n",
    "IQR=Q3-Q1\n",
    "print(Q1)\n",
    "print(Q3)\n",
    "print(IQR)\n",
    "Lower_Fence = Q1 - 1.5 * IQR\n",
    "Upper_Fence = Q3 + 1.5 * IQR\n",
    "print('LF:', Lower_Fence, 'UF:', Upper_Fence) "
   ]
  },
  {
   "cell_type": "code",
   "execution_count": 11,
   "id": "cfe09681",
   "metadata": {},
   "outputs": [
    {
     "data": {
      "text/html": [
       "<div>\n",
       "<style scoped>\n",
       "    .dataframe tbody tr th:only-of-type {\n",
       "        vertical-align: middle;\n",
       "    }\n",
       "\n",
       "    .dataframe tbody tr th {\n",
       "        vertical-align: top;\n",
       "    }\n",
       "\n",
       "    .dataframe thead th {\n",
       "        text-align: right;\n",
       "    }\n",
       "</style>\n",
       "<table border=\"1\" class=\"dataframe\">\n",
       "  <thead>\n",
       "    <tr style=\"text-align: right;\">\n",
       "      <th></th>\n",
       "      <th>age</th>\n",
       "      <th>sex</th>\n",
       "      <th>bmi</th>\n",
       "      <th>children</th>\n",
       "      <th>smoker</th>\n",
       "      <th>region</th>\n",
       "      <th>charges</th>\n",
       "    </tr>\n",
       "  </thead>\n",
       "  <tbody>\n",
       "    <tr>\n",
       "      <th>9</th>\n",
       "      <td>60</td>\n",
       "      <td>female</td>\n",
       "      <td>25.840</td>\n",
       "      <td>0</td>\n",
       "      <td>no</td>\n",
       "      <td>northwest</td>\n",
       "      <td>28923.13692</td>\n",
       "    </tr>\n",
       "    <tr>\n",
       "      <th>11</th>\n",
       "      <td>62</td>\n",
       "      <td>female</td>\n",
       "      <td>26.290</td>\n",
       "      <td>0</td>\n",
       "      <td>yes</td>\n",
       "      <td>southeast</td>\n",
       "      <td>27808.72510</td>\n",
       "    </tr>\n",
       "    <tr>\n",
       "      <th>14</th>\n",
       "      <td>27</td>\n",
       "      <td>male</td>\n",
       "      <td>42.130</td>\n",
       "      <td>0</td>\n",
       "      <td>yes</td>\n",
       "      <td>southeast</td>\n",
       "      <td>39611.75770</td>\n",
       "    </tr>\n",
       "    <tr>\n",
       "      <th>19</th>\n",
       "      <td>30</td>\n",
       "      <td>male</td>\n",
       "      <td>35.300</td>\n",
       "      <td>0</td>\n",
       "      <td>yes</td>\n",
       "      <td>southwest</td>\n",
       "      <td>36837.46700</td>\n",
       "    </tr>\n",
       "    <tr>\n",
       "      <th>23</th>\n",
       "      <td>34</td>\n",
       "      <td>female</td>\n",
       "      <td>31.920</td>\n",
       "      <td>1</td>\n",
       "      <td>yes</td>\n",
       "      <td>northeast</td>\n",
       "      <td>37701.87680</td>\n",
       "    </tr>\n",
       "    <tr>\n",
       "      <th>...</th>\n",
       "      <td>...</td>\n",
       "      <td>...</td>\n",
       "      <td>...</td>\n",
       "      <td>...</td>\n",
       "      <td>...</td>\n",
       "      <td>...</td>\n",
       "      <td>...</td>\n",
       "    </tr>\n",
       "    <tr>\n",
       "      <th>1308</th>\n",
       "      <td>25</td>\n",
       "      <td>female</td>\n",
       "      <td>30.200</td>\n",
       "      <td>0</td>\n",
       "      <td>yes</td>\n",
       "      <td>southwest</td>\n",
       "      <td>33900.65300</td>\n",
       "    </tr>\n",
       "    <tr>\n",
       "      <th>1313</th>\n",
       "      <td>19</td>\n",
       "      <td>female</td>\n",
       "      <td>34.700</td>\n",
       "      <td>2</td>\n",
       "      <td>yes</td>\n",
       "      <td>southwest</td>\n",
       "      <td>36397.57600</td>\n",
       "    </tr>\n",
       "    <tr>\n",
       "      <th>1321</th>\n",
       "      <td>62</td>\n",
       "      <td>male</td>\n",
       "      <td>26.695</td>\n",
       "      <td>0</td>\n",
       "      <td>yes</td>\n",
       "      <td>northeast</td>\n",
       "      <td>28101.33305</td>\n",
       "    </tr>\n",
       "    <tr>\n",
       "      <th>1323</th>\n",
       "      <td>42</td>\n",
       "      <td>female</td>\n",
       "      <td>40.370</td>\n",
       "      <td>2</td>\n",
       "      <td>yes</td>\n",
       "      <td>southeast</td>\n",
       "      <td>43896.37630</td>\n",
       "    </tr>\n",
       "    <tr>\n",
       "      <th>1337</th>\n",
       "      <td>61</td>\n",
       "      <td>female</td>\n",
       "      <td>29.070</td>\n",
       "      <td>0</td>\n",
       "      <td>yes</td>\n",
       "      <td>northwest</td>\n",
       "      <td>29141.36030</td>\n",
       "    </tr>\n",
       "  </tbody>\n",
       "</table>\n",
       "<p>218 rows × 7 columns</p>\n",
       "</div>"
      ],
      "text/plain": [
       "      age     sex     bmi  children smoker     region      charges\n",
       "9      60  female  25.840         0     no  northwest  28923.13692\n",
       "11     62  female  26.290         0    yes  southeast  27808.72510\n",
       "14     27    male  42.130         0    yes  southeast  39611.75770\n",
       "19     30    male  35.300         0    yes  southwest  36837.46700\n",
       "23     34  female  31.920         1    yes  northeast  37701.87680\n",
       "...   ...     ...     ...       ...    ...        ...          ...\n",
       "1308   25  female  30.200         0    yes  southwest  33900.65300\n",
       "1313   19  female  34.700         2    yes  southwest  36397.57600\n",
       "1321   62    male  26.695         0    yes  northeast  28101.33305\n",
       "1323   42  female  40.370         2    yes  southeast  43896.37630\n",
       "1337   61  female  29.070         0    yes  northwest  29141.36030\n",
       "\n",
       "[218 rows x 7 columns]"
      ]
     },
     "execution_count": 11,
     "metadata": {},
     "output_type": "execute_result"
    }
   ],
   "source": [
    "df[df['charges'] > 23956.791175]"
   ]
  },
  {
   "cell_type": "code",
   "execution_count": 12,
   "id": "dd350e0d",
   "metadata": {},
   "outputs": [
    {
     "data": {
      "image/png": "[encoded data removed]",
      "text/plain": [
       "<Figure size 432x288 with 1 Axes>"
      ]
     },
     "metadata": {
      "needs_background": "light"
     },
     "output_type": "display_data"
    }
   ],
   "source": [
    "df.drop(df[df['charges'] > 18400].index, inplace = True)\n",
    "sns.boxplot(data = df,x=\"charges\") \n",
    "plt.show()"
   ]
  },
  {
   "cell_type": "code",
   "execution_count": 13,
   "id": "328eaf68",
   "metadata": {},
   "outputs": [
    {
     "data": {
      "image/png": "[encoded data removed]",
      "text/plain": [
       "<Figure size 432x288 with 1 Axes>"
      ]
     },
     "metadata": {
      "needs_background": "light"
     },
     "output_type": "display_data"
    }
   ],
   "source": [
    "sns.boxplot(data = df,x=\"bmi\") \n",
    "plt.show()"
   ]
  },
  {
   "cell_type": "code",
   "execution_count": 14,
   "id": "a64b44ce",
   "metadata": {},
   "outputs": [
    {
     "data": {
      "text/plain": [
       "Int64Index([ 116,  286,  292,  401,  438,  454,  543,  547,  549,  660,  847,\n",
       "             860,  930,  941, 1047, 1088, 1131, 1317],\n",
       "           dtype='int64')"
      ]
     },
     "execution_count": 14,
     "metadata": {},
     "output_type": "execute_result"
    }
   ],
   "source": [
    "df[df['bmi'] > 45.5].index\n",
    "# df.drop(df[df['bmi'] > 45.5].index, inplace = True)"
   ]
  },
  {
   "cell_type": "markdown",
   "id": "92d04376",
   "metadata": {},
   "source": [
    "## Visualizing distributions"
   ]
  },
  {
   "cell_type": "code",
   "execution_count": 60,
   "id": "d4627dce",
   "metadata": {},
   "outputs": [
    {
     "data": {
      "image/png": "[encoded data removed]",
      "text/plain": [
       "<Figure size 432x288 with 1 Axes>"
      ]
     },
     "metadata": {
      "needs_background": "light"
     },
     "output_type": "display_data"
    }
   ],
   "source": [
    "sns.scatterplot(data = df,x=\"age\",y=\"charges\")\n",
    "plt.xlabel(\"age\")\n",
    "plt.ylabel(\"price\")\n",
    "plt.show()"
   ]
  },
  {
   "cell_type": "code",
   "execution_count": 16,
   "id": "0e2240b0",
   "metadata": {},
   "outputs": [
    {
     "data": {
      "image/png": "[encoded data removed]",
      "text/plain": [
       "<Figure size 432x432 with 1 Axes>"
      ]
     },
     "metadata": {},
     "output_type": "display_data"
    }
   ],
   "source": [
    "# Region distribution\n",
    "plt.figure(figsize=(6,6))\n",
    "df[\"region\"].value_counts().plot(kind=\"pie\",autopct=\"%d%%\",\n",
    "                                \n",
    "                                     colors=[\"red\",\"pink\",\"green\",'yellow'])\n",
    "plt.show()"
   ]
  },
  {
   "cell_type": "code",
   "execution_count": 17,
   "id": "27ea5b8b",
   "metadata": {},
   "outputs": [
    {
     "data": {
      "image/png": "[encoded data removed]",
      "text/plain": [
       "<Figure size 432x432 with 1 Axes>"
      ]
     },
     "metadata": {
      "needs_background": "light"
     },
     "output_type": "display_data"
    }
   ],
   "source": [
    "# smokers with respect to sex\n",
    "plt.figure(figsize=(6,6))\n",
    "sns.countplot(data=df,x=\"sex\",hue=\"smoker\")\n",
    "plt.show()"
   ]
  },
  {
   "cell_type": "code",
   "execution_count": 18,
   "id": "3ebeaf57",
   "metadata": {},
   "outputs": [
    {
     "data": {
      "image/png": "[encoded data removed]",
      "text/plain": [
       "<Figure size 432x432 with 1 Axes>"
      ]
     },
     "metadata": {
      "needs_background": "light"
     },
     "output_type": "display_data"
    }
   ],
   "source": [
    "# smoker patterns using countplot\n",
    "plt.figure(figsize=(6,6))\n",
    "sns.countplot(data=df,x=\"children\",hue=\"smoker\",palette=\"Set2\")\n",
    "plt.show()"
   ]
  },
  {
   "cell_type": "markdown",
   "id": "1ff07484",
   "metadata": {},
   "source": [
    "## Encoding Categorical Values"
   ]
  },
  {
   "cell_type": "code",
   "execution_count": 19,
   "id": "a7590218",
   "metadata": {},
   "outputs": [],
   "source": [
    "#1. LabelEncoder\n",
    "#LabelEncoder() inbuilt method of pandas\n",
    "from sklearn.preprocessing import LabelEncoder\n",
    "le = LabelEncoder()\n",
    "for col in columns:\n",
    "    if df[col].dtype == 'object':\n",
    "        df[col] = le.fit_transform(df[col])  #convert value from object to\n",
    "#numeric type "
   ]
  },
  {
   "cell_type": "code",
   "execution_count": 20,
   "id": "1764886f",
   "metadata": {},
   "outputs": [
    {
     "data": {
      "text/html": [
       "<div>\n",
       "<style scoped>\n",
       "    .dataframe tbody tr th:only-of-type {\n",
       "        vertical-align: middle;\n",
       "    }\n",
       "\n",
       "    .dataframe tbody tr th {\n",
       "        vertical-align: top;\n",
       "    }\n",
       "\n",
       "    .dataframe thead th {\n",
       "        text-align: right;\n",
       "    }\n",
       "</style>\n",
       "<table border=\"1\" class=\"dataframe\">\n",
       "  <thead>\n",
       "    <tr style=\"text-align: right;\">\n",
       "      <th></th>\n",
       "      <th>age</th>\n",
       "      <th>sex</th>\n",
       "      <th>bmi</th>\n",
       "      <th>children</th>\n",
       "      <th>smoker</th>\n",
       "      <th>region</th>\n",
       "      <th>charges</th>\n",
       "    </tr>\n",
       "  </thead>\n",
       "  <tbody>\n",
       "    <tr>\n",
       "      <th>0</th>\n",
       "      <td>19</td>\n",
       "      <td>0</td>\n",
       "      <td>27.90</td>\n",
       "      <td>0</td>\n",
       "      <td>1</td>\n",
       "      <td>3</td>\n",
       "      <td>16884.9240</td>\n",
       "    </tr>\n",
       "    <tr>\n",
       "      <th>11</th>\n",
       "      <td>62</td>\n",
       "      <td>0</td>\n",
       "      <td>26.29</td>\n",
       "      <td>0</td>\n",
       "      <td>1</td>\n",
       "      <td>2</td>\n",
       "      <td>27808.7251</td>\n",
       "    </tr>\n",
       "    <tr>\n",
       "      <th>14</th>\n",
       "      <td>27</td>\n",
       "      <td>1</td>\n",
       "      <td>42.13</td>\n",
       "      <td>0</td>\n",
       "      <td>1</td>\n",
       "      <td>2</td>\n",
       "      <td>39611.7577</td>\n",
       "    </tr>\n",
       "    <tr>\n",
       "      <th>19</th>\n",
       "      <td>30</td>\n",
       "      <td>1</td>\n",
       "      <td>35.30</td>\n",
       "      <td>0</td>\n",
       "      <td>1</td>\n",
       "      <td>3</td>\n",
       "      <td>36837.4670</td>\n",
       "    </tr>\n",
       "    <tr>\n",
       "      <th>23</th>\n",
       "      <td>34</td>\n",
       "      <td>0</td>\n",
       "      <td>31.92</td>\n",
       "      <td>1</td>\n",
       "      <td>1</td>\n",
       "      <td>0</td>\n",
       "      <td>37701.8768</td>\n",
       "    </tr>\n",
       "  </tbody>\n",
       "</table>\n",
       "</div>"
      ],
      "text/plain": [
       "    age  sex    bmi  children  smoker  region     charges\n",
       "0    19    0  27.90         0       1       3  16884.9240\n",
       "11   62    0  26.29         0       1       2  27808.7251\n",
       "14   27    1  42.13         0       1       2  39611.7577\n",
       "19   30    1  35.30         0       1       3  36837.4670\n",
       "23   34    0  31.92         1       1       0  37701.8768"
      ]
     },
     "execution_count": 20,
     "metadata": {},
     "output_type": "execute_result"
    }
   ],
   "source": [
    "df[df['smoker']==1].head()"
   ]
  },
  {
   "cell_type": "code",
   "execution_count": 21,
   "id": "2ab1746e",
   "metadata": {},
   "outputs": [
    {
     "data": {
      "image/png": "[encoded data removed]",
      "text/plain": [
       "<Figure size 576x576 with 2 Axes>"
      ]
     },
     "metadata": {
      "needs_background": "light"
     },
     "output_type": "display_data"
    }
   ],
   "source": [
    "# Correlation\n",
    "plt.figure(figsize = (8,8))\n",
    "sns.heatmap(df.corr(), annot = True, cmap = 'Blues')\n",
    "plt.show()"
   ]
  },
  {
   "cell_type": "code",
   "execution_count": 22,
   "id": "d06fb936",
   "metadata": {},
   "outputs": [
    {
     "data": {
      "text/plain": [
       "age         0\n",
       "sex         0\n",
       "bmi         0\n",
       "children    0\n",
       "smoker      0\n",
       "region      0\n",
       "charges     0\n",
       "dtype: int64"
      ]
     },
     "execution_count": 22,
     "metadata": {},
     "output_type": "execute_result"
    }
   ],
   "source": [
    "# check for null values\n",
    "df.isnull().sum() #isnull() "
   ]
  },
  {
   "cell_type": "code",
   "execution_count": 23,
   "id": "4b8be778",
   "metadata": {},
   "outputs": [
    {
     "data": {
      "image/png": "[encoded data removed]",
      "text/plain": [
       "<Figure size 432x288 with 2 Axes>"
      ]
     },
     "metadata": {
      "needs_background": "light"
     },
     "output_type": "display_data"
    }
   ],
   "source": [
    "sns.heatmap(df.isnull())\n",
    "plt.show()"
   ]
  },
  {
   "cell_type": "code",
   "execution_count": 24,
   "id": "94ed95fa",
   "metadata": {},
   "outputs": [
    {
     "name": "stdout",
     "output_type": "stream",
     "text": [
      "Skewness of Column age : 0.05567251565299186\n",
      "Skewness of Column sex : -0.02095139743334541\n",
      "Skewness of Column bmi : 0.2840471105987448\n",
      "Skewness of Column children : 0.9383804401702414\n",
      "Skewness of Column smoker : 1.4647661601953743\n",
      "Skewness of Column region : -0.038100508026419524\n",
      "Skewness of Column charges : 1.5158796580240388\n"
     ]
    }
   ],
   "source": [
    "# Skewness and histogram\n",
    "for col in columns:\n",
    "    print(\"Skewness of Column {} : {}\".format(col,df[col].skew()))  "
   ]
  },
  {
   "cell_type": "code",
   "execution_count": 25,
   "id": "45eac0bd",
   "metadata": {},
   "outputs": [
    {
     "name": "stdout",
     "output_type": "stream",
     "text": [
      "Skewness of Column age : 0.05567251565299186\n",
      "Histogram :  age\n"
     ]
    },
    {
     "data": {
      "image/png": "[encoded data removed]",
      "text/plain": [
       "<Figure size 432x288 with 1 Axes>"
      ]
     },
     "metadata": {
      "needs_background": "light"
     },
     "output_type": "display_data"
    },
    {
     "data": {
      "image/png": "[encoded data removed]",
      "text/plain": [
       "<Figure size 432x288 with 1 Axes>"
      ]
     },
     "metadata": {
      "needs_background": "light"
     },
     "output_type": "display_data"
    },
    {
     "name": "stdout",
     "output_type": "stream",
     "text": [
      "Skewness of Column sex : -0.02095139743334541\n",
      "Histogram :  sex\n"
     ]
    },
    {
     "data": {
      "image/png": "[encoded data removed]",
      "text/plain": [
       "<Figure size 432x288 with 1 Axes>"
      ]
     },
     "metadata": {
      "needs_background": "light"
     },
     "output_type": "display_data"
    },
    {
     "data": {
      "image/png": "[encoded data removed]",
      "text/plain": [
       "<Figure size 432x288 with 1 Axes>"
      ]
     },
     "metadata": {
      "needs_background": "light"
     },
     "output_type": "display_data"
    },
    {
     "name": "stdout",
     "output_type": "stream",
     "text": [
      "Skewness of Column bmi : 0.2840471105987448\n",
      "Histogram :  bmi\n"
     ]
    },
    {
     "data": {
      "image/png": "[encoded data removed]",
      "text/plain": [
       "<Figure size 432x288 with 1 Axes>"
      ]
     },
     "metadata": {
      "needs_background": "light"
     },
     "output_type": "display_data"
    },
    {
     "data": {
      "image/png": "[encoded data removed]",
      "text/plain": [
       "<Figure size 432x288 with 1 Axes>"
      ]
     },
     "metadata": {
      "needs_background": "light"
     },
     "output_type": "display_data"
    },
    {
     "name": "stdout",
     "output_type": "stream",
     "text": [
      "Skewness of Column children : 0.9383804401702414\n",
      "Histogram :  children\n"
     ]
    },
    {
     "data": {
      "image/png": "[encoded data removed]",
      "text/plain": [
       "<Figure size 432x288 with 1 Axes>"
      ]
     },
     "metadata": {
      "needs_background": "light"
     },
     "output_type": "display_data"
    },
    {
     "data": {
      "image/png": "[encoded data removed]",
      "text/plain": [
       "<Figure size 432x288 with 1 Axes>"
      ]
     },
     "metadata": {
      "needs_background": "light"
     },
     "output_type": "display_data"
    },
    {
     "name": "stdout",
     "output_type": "stream",
     "text": [
      "Skewness of Column smoker : 1.4647661601953743\n",
      "Histogram :  smoker\n"
     ]
    },
    {
     "data": {
      "image/png": "[encoded data removed]",
      "text/plain": [
       "<Figure size 432x288 with 1 Axes>"
      ]
     },
     "metadata": {
      "needs_background": "light"
     },
     "output_type": "display_data"
    },
    {
     "data": {
      "image/png": "[encoded data removed]",
      "text/plain": [
       "<Figure size 432x288 with 1 Axes>"
      ]
     },
     "metadata": {
      "needs_background": "light"
     },
     "output_type": "display_data"
    },
    {
     "name": "stdout",
     "output_type": "stream",
     "text": [
      "Skewness of Column region : -0.038100508026419524\n",
      "Histogram :  region\n"
     ]
    },
    {
     "data": {
      "image/png": "[encoded data removed]",
      "text/plain": [
       "<Figure size 432x288 with 1 Axes>"
      ]
     },
     "metadata": {
      "needs_background": "light"
     },
     "output_type": "display_data"
    },
    {
     "data": {
      "image/png": "[encoded data removed]",
      "text/plain": [
       "<Figure size 432x288 with 1 Axes>"
      ]
     },
     "metadata": {
      "needs_background": "light"
     },
     "output_type": "display_data"
    },
    {
     "name": "stdout",
     "output_type": "stream",
     "text": [
      "Skewness of Column charges : 1.5158796580240388\n",
      "Histogram :  charges\n"
     ]
    },
    {
     "data": {
      "image/png": "[encoded data removed]",
      "text/plain": [
       "<Figure size 432x288 with 1 Axes>"
      ]
     },
     "metadata": {
      "needs_background": "light"
     },
     "output_type": "display_data"
    },
    {
     "data": {
      "image/png": "[encoded data removed]",
      "text/plain": [
       "<Figure size 432x288 with 1 Axes>"
      ]
     },
     "metadata": {
      "needs_background": "light"
     },
     "output_type": "display_data"
    }
   ],
   "source": [
    "for col in columns:\n",
    "    print(\"Skewness of Column {} : {}\".format(col,df[col].skew()))\n",
    "    print(\"Histogram : \",col)\n",
    "    sns.histplot(df[col])\n",
    "    plt.show()\n",
    "    sns.distplot(df[col])\n",
    "    plt.show()"
   ]
  },
  {
   "cell_type": "markdown",
   "id": "8266c1ef",
   "metadata": {},
   "source": [
    "## Split dataset into input and output variables"
   ]
  },
  {
   "cell_type": "code",
   "execution_count": 26,
   "id": "95bb0602",
   "metadata": {},
   "outputs": [],
   "source": [
    "X = df.drop(['charges'], axis =1)\n",
    "Y = df['charges']"
   ]
  },
  {
   "cell_type": "code",
   "execution_count": 27,
   "id": "678d8267",
   "metadata": {},
   "outputs": [],
   "source": [
    "# !pip install statsmodels"
   ]
  },
  {
   "cell_type": "code",
   "execution_count": 28,
   "id": "53832c46",
   "metadata": {},
   "outputs": [
    {
     "name": "stdout",
     "output_type": "stream",
     "text": [
      "    feature        VIF\n",
      "0       age   7.551348\n",
      "1       sex   2.001061\n",
      "2       bmi  10.371829\n",
      "3  children   1.801245\n",
      "4    smoker   1.256837\n",
      "5    region   2.924528\n"
     ]
    }
   ],
   "source": [
    "# variance_inflation_factor\n",
    "# It quantifies the severity of multicollinearity in an ordinary least squares regression analysis.\n",
    "from statsmodels.stats.outliers_influence import variance_inflation_factor\n",
    "\n",
    "# X = df[columns]\n",
    "  \n",
    "# VIF dataframe\n",
    "vif_data = pd.DataFrame()\n",
    "vif_data[\"feature\"] = X.columns\n",
    "  \n",
    "# calculating VIF for each feature\n",
    "vif_data[\"VIF\"] = [variance_inflation_factor(X.values, i)\n",
    "                          for i in range(len(X.columns))]\n",
    "  \n",
    "print(vif_data)"
   ]
  },
  {
   "cell_type": "code",
   "execution_count": 29,
   "id": "b2ac4655",
   "metadata": {},
   "outputs": [],
   "source": [
    "# implement train test split\n",
    "from sklearn.model_selection import train_test_split\n",
    "X_train,X_test, Y_train,Y_test = train_test_split(X,Y,test_size = 0.3,random_state=1)"
   ]
  },
  {
   "cell_type": "code",
   "execution_count": 30,
   "id": "007be934",
   "metadata": {},
   "outputs": [
    {
     "data": {
      "text/plain": [
       "(402, 6)"
      ]
     },
     "execution_count": 30,
     "metadata": {},
     "output_type": "execute_result"
    }
   ],
   "source": [
    "X_test.shape"
   ]
  },
  {
   "cell_type": "code",
   "execution_count": 31,
   "id": "7dc19854",
   "metadata": {},
   "outputs": [],
   "source": [
    "# from sklearn.preprocessing import StandardScaler\n",
    "# ss = StandardScaler()\n",
    "\n",
    "# X_train = ss.fit_transform(X_train)\n",
    "# X_test  = ss.transform(X_test)\n",
    "# X_train"
   ]
  },
  {
   "cell_type": "markdown",
   "id": "089426c5",
   "metadata": {},
   "source": [
    "## Implement Linear Regression"
   ]
  },
  {
   "cell_type": "code",
   "execution_count": 32,
   "id": "fcb02003",
   "metadata": {},
   "outputs": [
    {
     "data": {
      "text/plain": [
       "LinearRegression(copy_X=True, fit_intercept=True, n_jobs=None, normalize=False)"
      ]
     },
     "execution_count": 32,
     "metadata": {},
     "output_type": "execute_result"
    }
   ],
   "source": [
    "from sklearn.linear_model import LinearRegression\n",
    "lr = LinearRegression()\n",
    "lr.fit(X_train,Y_train)"
   ]
  },
  {
   "cell_type": "code",
   "execution_count": 33,
   "id": "9716018e",
   "metadata": {},
   "outputs": [
    {
     "name": "stdout",
     "output_type": "stream",
     "text": [
      "Slope m:  [  261.62568984   109.64719595   344.54483066   424.37016596\n",
      " 23620.80252148  -326.46262527]\n"
     ]
    }
   ],
   "source": [
    "m = lr.coef_\n",
    "print(\"Slope m: \", m)"
   ]
  },
  {
   "cell_type": "code",
   "execution_count": 34,
   "id": "677d3155",
   "metadata": {},
   "outputs": [
    {
     "name": "stdout",
     "output_type": "stream",
     "text": [
      "Intercept -12364.391322279243\n"
     ]
    }
   ],
   "source": [
    "b = lr.intercept_\n",
    "print('Intercept value', b)"
   ]
  },
  {
   "cell_type": "code",
   "execution_count": 63,
   "id": "a4b28694",
   "metadata": {},
   "outputs": [
    {
     "data": {
      "text/plain": [
       "array([8.93142116e+03, 7.07090670e+03, 3.69370805e+04, 9.59699214e+03,\n",
       "       2.70083549e+04, 1.08664849e+04, 3.74610217e+01, 1.72228092e+04,\n",
       "       9.18308115e+02, 1.13965537e+04, 2.79154456e+04, 9.53381323e+03,\n",
       "       5.18928014e+03, 3.86124990e+04, 4.05094490e+04, 3.72748566e+04,\n",
       "       1.53562559e+04, 3.59449407e+04, 9.10631783e+03, 3.14429410e+04,\n",
       "       3.66298253e+03, 1.00966745e+04, 2.21091896e+03, 7.10598084e+03,\n",
       "       1.13521417e+04, 1.30231210e+04, 1.44472857e+04, 6.12031303e+03,\n",
       "       9.94564893e+03, 2.18617424e+03])"
      ]
     },
     "execution_count": 63,
     "metadata": {},
     "output_type": "execute_result"
    }
   ],
   "source": [
    "#Y_pred= m*X_test+b\n",
    "Y_pred = lr.predict(X_test) \n",
    "Y_pred[0:30]"
   ]
  },
  {
   "cell_type": "code",
   "execution_count": 36,
   "id": "63b4b9b1",
   "metadata": {},
   "outputs": [
    {
     "data": {
      "text/plain": [
       "33805466.898688614"
      ]
     },
     "execution_count": 36,
     "metadata": {},
     "output_type": "execute_result"
    }
   ],
   "source": [
    "# show mean_squared_error\n",
    "from sklearn.metrics import mean_squared_error\n",
    "mean_squared_error(Y_test,Y_pred) # formula sum(Y-Y_pred)^2/N"
   ]
  },
  {
   "cell_type": "code",
   "execution_count": 37,
   "id": "2c687d5d",
   "metadata": {},
   "outputs": [
    {
     "data": {
      "text/plain": [
       "0.7694415927057693"
      ]
     },
     "execution_count": 37,
     "metadata": {},
     "output_type": "execute_result"
    }
   ],
   "source": [
    "from sklearn.metrics import r2_score\n",
    "r2_score(Y_test,Y_pred)"
   ]
  },
  {
   "cell_type": "code",
   "execution_count": 38,
   "id": "be48a6cd",
   "metadata": {},
   "outputs": [
    {
     "data": {
      "text/plain": [
       "array([2084.81995596])"
      ]
     },
     "execution_count": 38,
     "metadata": {},
     "output_type": "execute_result"
    }
   ],
   "source": [
    "lr.predict([[22, 0, 24, 1,0,0]])"
   ]
  },
  {
   "cell_type": "code",
   "execution_count": 39,
   "id": "9ad29daf",
   "metadata": {},
   "outputs": [
    {
     "data": {
      "text/plain": [
       "764      163.647086\n",
       "887    -1798.730903\n",
       "890    -7606.097346\n",
       "1293    -295.098594\n",
       "259     6741.936929\n",
       "           ...     \n",
       "701    -6591.856068\n",
       "672    -2344.105928\n",
       "1163     134.627358\n",
       "1103   -3334.514924\n",
       "1295    1962.041765\n",
       "Name: charges, Length: 402, dtype: float64"
      ]
     },
     "execution_count": 39,
     "metadata": {},
     "output_type": "execute_result"
    }
   ],
   "source": [
    "# Error residuals\n",
    "residuals = Y_test-Y_pred\n",
    "residuals"
   ]
  },
  {
   "cell_type": "code",
   "execution_count": 40,
   "id": "6c606690",
   "metadata": {},
   "outputs": [
    {
     "data": {
      "text/html": [
       "<div>\n",
       "<style scoped>\n",
       "    .dataframe tbody tr th:only-of-type {\n",
       "        vertical-align: middle;\n",
       "    }\n",
       "\n",
       "    .dataframe tbody tr th {\n",
       "        vertical-align: top;\n",
       "    }\n",
       "\n",
       "    .dataframe thead th {\n",
       "        text-align: right;\n",
       "    }\n",
       "</style>\n",
       "<table border=\"1\" class=\"dataframe\">\n",
       "  <thead>\n",
       "    <tr style=\"text-align: right;\">\n",
       "      <th></th>\n",
       "      <th>residuals</th>\n",
       "      <th>Predicted_output</th>\n",
       "    </tr>\n",
       "  </thead>\n",
       "  <tbody>\n",
       "    <tr>\n",
       "      <th>764</th>\n",
       "      <td>163.647086</td>\n",
       "      <td>8931.421164</td>\n",
       "    </tr>\n",
       "    <tr>\n",
       "      <th>887</th>\n",
       "      <td>-1798.730903</td>\n",
       "      <td>7070.906703</td>\n",
       "    </tr>\n",
       "    <tr>\n",
       "      <th>890</th>\n",
       "      <td>-7606.097346</td>\n",
       "      <td>36937.080496</td>\n",
       "    </tr>\n",
       "    <tr>\n",
       "      <th>1293</th>\n",
       "      <td>-295.098594</td>\n",
       "      <td>9596.992144</td>\n",
       "    </tr>\n",
       "    <tr>\n",
       "      <th>259</th>\n",
       "      <td>6741.936929</td>\n",
       "      <td>27008.354871</td>\n",
       "    </tr>\n",
       "  </tbody>\n",
       "</table>\n",
       "</div>"
      ],
      "text/plain": [
       "        residuals  Predicted_output\n",
       "764    163.647086       8931.421164\n",
       "887  -1798.730903       7070.906703\n",
       "890  -7606.097346      36937.080496\n",
       "1293  -295.098594       9596.992144\n",
       "259   6741.936929      27008.354871"
      ]
     },
     "execution_count": 40,
     "metadata": {},
     "output_type": "execute_result"
    }
   ],
   "source": [
    "# Error residuals / predicted values\n",
    "dic = {'residuals':residuals}\n",
    "df1 = pd.DataFrame.from_dict(dic)\n",
    "df1['Predicted_output'] = Y_pred\n",
    "df1.head()"
   ]
  },
  {
   "cell_type": "code",
   "execution_count": 42,
   "id": "84006c17",
   "metadata": {},
   "outputs": [
    {
     "data": {
      "image/png": "[encoded data removed]",
      "text/plain": [
       "<Figure size 432x432 with 1 Axes>"
      ]
     },
     "metadata": {
      "needs_background": "light"
     },
     "output_type": "display_data"
    }
   ],
   "source": [
    "# Error residuals / predicted values plotted\n",
    "plt.figure(figsize = (6,6))\n",
    "sns.scatterplot(data=df1,x=\"Predicted_output\",y='residuals') # variance in the residuals or errors should be constant\n",
    "plt.hlines(0,0,150)\n",
    "plt.ylabel(\"Residual\")\n",
    "plt.show()"
   ]
  },
  {
   "cell_type": "code",
   "execution_count": 43,
   "id": "29ba83a5",
   "metadata": {},
   "outputs": [
    {
     "data": {
      "image/png": "[encoded data removed]",
      "text/plain": [
       "<Figure size 432x288 with 1 Axes>"
      ]
     },
     "metadata": {
      "needs_background": "light"
     },
     "output_type": "display_data"
    }
   ],
   "source": [
    "sns.histplot(df1['residuals'])\n",
    "plt.show()"
   ]
  },
  {
   "cell_type": "code",
   "execution_count": 44,
   "id": "49e8b85d",
   "metadata": {
    "scrolled": true
   },
   "outputs": [
    {
     "data": {
      "text/plain": [
       "1.1257853613655637"
      ]
     },
     "execution_count": 44,
     "metadata": {},
     "output_type": "execute_result"
    }
   ],
   "source": [
    "df1['residuals'].skew()"
   ]
  },
  {
   "cell_type": "markdown",
   "id": "caee8681",
   "metadata": {},
   "source": [
    "## Regularization (Lasso regression)"
   ]
  },
  {
   "cell_type": "code",
   "execution_count": 45,
   "id": "5a62e7e2",
   "metadata": {},
   "outputs": [
    {
     "data": {
      "text/plain": [
       "Lasso(alpha=1000, copy_X=True, fit_intercept=True, max_iter=1000,\n",
       "      normalize=False, positive=False, precompute=False, random_state=None,\n",
       "      selection='cyclic', tol=0.0001, warm_start=False)"
      ]
     },
     "execution_count": 45,
     "metadata": {},
     "output_type": "execute_result"
    }
   ],
   "source": [
    "# Lasso regression means L1 call inbuilt class Lasso\n",
    "from sklearn.linear_model import Lasso\n",
    "l1 = Lasso(1000)\n",
    "\n",
    "l1.fit(X_train,Y_train)"
   ]
  },
  {
   "cell_type": "code",
   "execution_count": 46,
   "id": "0dcf0ff8",
   "metadata": {},
   "outputs": [
    {
     "name": "stdout",
     "output_type": "stream",
     "text": [
      "Slope m:  252.28\n",
      "Slope m:  0.0\n",
      "Slope m:  305.92\n",
      "Slope m:  0.0\n",
      "Slope m:  17576.52\n",
      "Slope m:  -0.0\n"
     ]
    }
   ],
   "source": [
    "# check slope/coefficient of value of each input add the error on training\n",
    "# time : use coef_ method of Lasso\n",
    "m1 = l1.coef_\n",
    "for i in m1:\n",
    "    print(\"Slope m: \", np.round(i,2))"
   ]
  },
  {
   "cell_type": "code",
   "execution_count": 47,
   "id": "056bc82e",
   "metadata": {},
   "outputs": [
    {
     "data": {
      "text/plain": [
       "0.7184260929064418"
      ]
     },
     "execution_count": 47,
     "metadata": {},
     "output_type": "execute_result"
    }
   ],
   "source": [
    "l1.score(X_test, Y_test)"
   ]
  },
  {
   "cell_type": "code",
   "execution_count": 48,
   "id": "618aa329",
   "metadata": {},
   "outputs": [
    {
     "name": "stdout",
     "output_type": "stream",
     "text": [
      "Value of Lambda:  200 Test Score 0.7657206391211261\n",
      "Value of Lambda:  250 Test Score 0.7641197096446235\n",
      "Value of Lambda:  300 Test Score 0.762278102787976\n",
      "Value of Lambda:  350 Test Score 0.7601963312317407\n",
      "Value of Lambda:  400 Test Score 0.7579337015515684\n",
      "Value of Lambda:  450 Test Score 0.7556504777862578\n",
      "Value of Lambda:  500 Test Score 0.7531523693581793\n",
      "Value of Lambda:  550 Test Score 0.7504393762673329\n",
      "Value of Lambda:  600 Test Score 0.7475114985137186\n",
      "Value of Lambda:  650 Test Score 0.7443687360973362\n",
      "Value of Lambda:  700 Test Score 0.7410725986200387\n",
      "Value of Lambda:  750 Test Score 0.7378054379066359\n",
      "Value of Lambda:  800 Test Score 0.7343353726333752\n",
      "Value of Lambda:  850 Test Score 0.7306624028002565\n",
      "Value of Lambda:  900 Test Score 0.7267865144010861\n",
      "Value of Lambda:  950 Test Score 0.7227077734875597\n",
      "Value of Lambda:  1000 Test Score 0.7184260929064418\n"
     ]
    }
   ],
   "source": [
    "#Lasso regularization with different lambda values\n",
    "for i in range(200,1001,50): # start = 200, stop = 1001-1 = 1000 step = 50\n",
    "    # create the object of Lasso class\n",
    "    l1 = Lasso(i)  # first put the value of i = 200, then i =250,300 ... 1000\n",
    "    #RSS + i*sum(abs(all coef))\n",
    "    l1.fit(X_train,Y_train)   # train model from Lasso\n",
    "    score = l1.score(X_test, Y_test)  #find out the score means testing 30% data\n",
    "    print(\"Value of Lambda: \",i,\"Test Score\", score)"
   ]
  },
  {
   "cell_type": "code",
   "execution_count": 49,
   "id": "a451fa38",
   "metadata": {},
   "outputs": [
    {
     "data": {
      "text/plain": [
       "0.7444332586817883"
      ]
     },
     "execution_count": 49,
     "metadata": {},
     "output_type": "execute_result"
    }
   ],
   "source": [
    "from sklearn.model_selection import cross_val_score\n",
    "#cross_val_score inbuilt class\n",
    "#create the object  of Lasso class and pass value of alpha or lambda\n",
    "l1 = Lasso(200)\n",
    "l1_cross = cross_val_score(l1,X,Y,cv=4) # here l1 object of Lasso and \n",
    "#X input and Y output cv means divided the no. of parts of data=4\n",
    "l1_cross # four testing data scores\n",
    "l1_cross.mean()"
   ]
  },
  {
   "cell_type": "markdown",
   "id": "967e8ea0",
   "metadata": {},
   "source": [
    "## Ridge regression"
   ]
  },
  {
   "cell_type": "code",
   "execution_count": 50,
   "id": "49fb9109",
   "metadata": {},
   "outputs": [
    {
     "name": "stdout",
     "output_type": "stream",
     "text": [
      "Value of Lambda: 0 Test Score 0.7694415927057693 Train Score 0.7422571320172101\n",
      "Value of Lambda: 1 Test Score 0.7692081844141473 Train Score 0.7422309925783954\n",
      "Value of Lambda: 2 Test Score 0.7689287587131886 Train Score 0.7421539153734711\n",
      "Value of Lambda: 3 Test Score 0.7686051276377269 Train Score 0.7420278543225471\n",
      "Value of Lambda: 4 Test Score 0.7682390337207035 Train Score 0.7418546889541484\n",
      "Value of Lambda: 5 Test Score 0.7678321529242093 Train Score 0.7416362275327061\n",
      "Value of Lambda: 6 Test Score 0.7673860974325228 Train Score 0.7413742100390299\n",
      "Value of Lambda: 7 Test Score 0.7669024183143742 Train Score 0.741070311011453\n",
      "Value of Lambda: 8 Test Score 0.7663826080612448 Train Score 0.7407261422548985\n",
      "Value of Lambda: 9 Test Score 0.7658281030081204 Train Score 0.7403432554247025\n",
      "Value of Lambda: 10 Test Score 0.7652402856427529 Train Score 0.7399231444916318\n",
      "Value of Lambda: 11 Test Score 0.7646204868091336 Train Score 0.7394672480941782\n",
      "Value of Lambda: 12 Test Score 0.7639699878105691 Train Score 0.7389769517838565\n",
      "Value of Lambda: 13 Test Score 0.7632900224174384 Train Score 0.7384535901689235\n",
      "Value of Lambda: 14 Test Score 0.7625817787844331 Train Score 0.7378984489616234\n",
      "Value of Lambda: 15 Test Score 0.7618464012818127 Train Score 0.7373127669337856\n",
      "Value of Lambda: 16 Test Score 0.7610849922449545 Train Score 0.7366977377853376\n",
      "Value of Lambda: 17 Test Score 0.7602986136462497 Train Score 0.7360545119300381\n",
      "Value of Lambda: 18 Test Score 0.759488288693168 Train Score 0.7353841982025053\n",
      "Value of Lambda: 19 Test Score 0.7586550033561082 Train Score 0.7346878654903941\n",
      "Value of Lambda: 20 Test Score 0.7577997078294622 Train Score 0.7339665442953662\n",
      "Value of Lambda: 21 Test Score 0.7569233179291242 Train Score 0.7332212282263009\n",
      "Value of Lambda: 22 Test Score 0.7560267164295158 Train Score 0.7324528754280126\n",
      "Value of Lambda: 23 Test Score 0.7551107543430264 Train Score 0.7316624099485656\n",
      "Value of Lambda: 24 Test Score 0.7541762521446205 Train Score 0.7308507230481132\n",
      "Value of Lambda: 25 Test Score 0.7532240009442128 Train Score 0.7300186744520376\n",
      "Value of Lambda: 26 Test Score 0.7522547636092825 Train Score 0.7291670935510156\n",
      "Value of Lambda: 27 Test Score 0.7512692758400641 Train Score 0.7282967805505043\n",
      "Value of Lambda: 28 Test Score 0.7502682471995341 Train Score 0.7274085075720119\n",
      "Value of Lambda: 29 Test Score 0.7492523621002972 Train Score 0.7265030197083893\n",
      "Value of Lambda: 30 Test Score 0.7482222807503687 Train Score 0.7255810360352752\n",
      "Value of Lambda: 31 Test Score 0.7471786400597462 Train Score 0.7246432505807097\n",
      "Value of Lambda: 32 Test Score 0.7461220545095718 Train Score 0.7236903332548321\n",
      "Value of Lambda: 33 Test Score 0.7450531169855874 Train Score 0.7227229307414834\n",
      "Value of Lambda: 34 Test Score 0.74397239957751 Train Score 0.7217416673534405\n",
      "Value of Lambda: 35 Test Score 0.7428804543458639 Train Score 0.7207471458529251\n",
      "Value of Lambda: 36 Test Score 0.7417778140577358 Train Score 0.7197399482389442\n",
      "Value of Lambda: 37 Test Score 0.7406649928928423 Train Score 0.7187206365029493\n",
      "Value of Lambda: 38 Test Score 0.7395424871212354 Train Score 0.7176897533542201\n",
      "Value of Lambda: 39 Test Score 0.7384107757539018 Train Score 0.7166478229163169\n",
      "Value of Lambda: 40 Test Score 0.7372703211674528 Train Score 0.7155953513958728\n",
      "Value of Lambda: 41 Test Score 0.7361215697040464 Train Score 0.7145328277249461\n",
      "Value of Lambda: 42 Test Score 0.7349649522476197 Train Score 0.7134607241780794\n",
      "Value of Lambda: 43 Test Score 0.7338008847774689 Train Score 0.7123794969651726\n",
      "Value of Lambda: 44 Test Score 0.7326297689001546 Train Score 0.711289586801211\n",
      "Value of Lambda: 45 Test Score 0.7314519923606706 Train Score 0.7101914194538498\n",
      "Value of Lambda: 46 Test Score 0.7302679295337637 Train Score 0.7090854062698007\n",
      "Value of Lambda: 47 Test Score 0.7290779418962595 Train Score 0.70797194468093\n",
      "Value of Lambda: 48 Test Score 0.7278823784811941 Train Score 0.7068514186909274\n",
      "Value of Lambda: 49 Test Score 0.7266815763145322 Train Score 0.7057241993433683\n",
      "Value of Lambda: 50 Test Score 0.7254758608352004 Train Score 0.7045906451719556\n"
     ]
    }
   ],
   "source": [
    "#Ridge regularization with different lambda values\n",
    "\n",
    "from sklearn.linear_model import Ridge\n",
    "for i in range(51): # start = 0, stop = 51-1 = 50 step = 5\n",
    "    # create the object of Ridge class\n",
    "    l2 = Ridge(i)  # first put the value of i = 200, then i =0,5 ... 50\n",
    "    #RSS + i*sum(square(all coef))\n",
    "    l2.fit(X_train,Y_train)   # train model from ridge\n",
    "    score = l2.score(X_test, Y_test)\n",
    "    score2 = l2.score(X_train, Y_train)#find out the score means testing 30% data\n",
    "    print(\"Value of Lambda:\",i,\"Test Score\", score,\"Train Score\", score2)"
   ]
  },
  {
   "cell_type": "code",
   "execution_count": 51,
   "id": "21f3f490",
   "metadata": {},
   "outputs": [
    {
     "data": {
      "text/plain": [
       "0.7465374465214439"
      ]
     },
     "execution_count": 51,
     "metadata": {},
     "output_type": "execute_result"
    }
   ],
   "source": [
    "from sklearn.model_selection import cross_val_score\n",
    "#cross_val_score inbuilt class\n",
    "#create the object  of Lasso class and pass value of alpha or lambda\n",
    "r1 = Ridge(0)\n",
    "r1_cross = cross_val_score(r1,X,Y,cv=4) # here l1 object of Lasso and \n",
    "#X input and Y output cv means divided the no. of parts of data=4\n",
    "r1_cross # four testing data scores\n",
    "r1_cross.mean()"
   ]
  },
  {
   "cell_type": "code",
   "execution_count": 52,
   "id": "ad18d5b2",
   "metadata": {},
   "outputs": [],
   "source": [
    "r1 = Ridge(0)\n",
    "r1.fit(X_train,Y_train)   # train model from ridge\n",
    "score = r1.score(X_test, Y_test)\n",
    "score2 = r1.score(X_train, Y_train)"
   ]
  },
  {
   "cell_type": "code",
   "execution_count": 53,
   "id": "b6ff96cd",
   "metadata": {},
   "outputs": [],
   "source": [
    "# pickling to store Ridge model\n",
    "import pickle\n",
    "pickle.dump(r1,open('r1.pkl','wb'))"
   ]
  },
  {
   "cell_type": "code",
   "execution_count": 54,
   "id": "a1f1f8c4",
   "metadata": {},
   "outputs": [
    {
     "name": "stdout",
     "output_type": "stream",
     "text": [
      "model loaded\n"
     ]
    }
   ],
   "source": [
    "model = pickle.load(open('r1.pkl', 'rb'))\n",
    "print(\"model loaded\")"
   ]
  },
  {
   "cell_type": "code",
   "execution_count": 55,
   "id": "7994d5f8",
   "metadata": {},
   "outputs": [
    {
     "data": {
      "text/plain": [
       "array([25705.62247745])"
      ]
     },
     "execution_count": 55,
     "metadata": {},
     "output_type": "execute_result"
    }
   ],
   "source": [
    "r1.predict([[22,0,24,1,1,0]])"
   ]
  },
  {
   "cell_type": "code",
   "execution_count": 56,
   "id": "60b1ec77",
   "metadata": {},
   "outputs": [],
   "source": [
    "def create_model(model):\n",
    "    model.fit(X_train,Y_train)#train the model\n",
    "    Y_pred=model.predict(X_test) #test\n",
    "    score = model.score(X_test, Y_test)\n",
    "    print(score)\n",
    "    score2 = model.score(X_train, Y_train)\n",
    "    print(score2)\n",
    "    return model"
   ]
  },
  {
   "cell_type": "markdown",
   "id": "7252aff4",
   "metadata": {},
   "source": [
    "## xgboost implementation"
   ]
  },
  {
   "cell_type": "code",
   "execution_count": 57,
   "id": "7bf98478",
   "metadata": {},
   "outputs": [
    {
     "name": "stdout",
     "output_type": "stream",
     "text": [
      "0.8600536323413535\n",
      "0.9380666951642633\n"
     ]
    }
   ],
   "source": [
    "# !pip install xgboost\n",
    "from xgboost import XGBRegressor\n",
    "xgc = XGBRegressor(n_estimators = 16, reg_alpha = 4)\n",
    "xgc = create_model(xgc)\n",
    "\n",
    "Y_pred=xgc.predict(X_test)\n",
    "# print(\"\\nAccuracy of our xgboost model is:\",accuracy_score(Y_test,Y_pred))\n",
    "# print(\"Recall value of our model is:\", recall_score(Y_test,Y_pred))"
   ]
  },
  {
   "cell_type": "code",
   "execution_count": 58,
   "id": "7296c40f",
   "metadata": {},
   "outputs": [],
   "source": [
    "# !pip install scikit-learn --upgrade"
   ]
  },
  {
   "cell_type": "code",
   "execution_count": null,
   "id": "c5ce7587",
   "metadata": {},
   "outputs": [],
   "source": []
  }
 ],
 "metadata": {
  "kernelspec": {
   "display_name": "Python 3 (ipykernel)",
   "language": "python",
   "name": "python3"
  },
  "language_info": {
   "codemirror_mode": {
    "name": "ipython",
    "version": 3
   },
   "file_extension": ".py",
   "mimetype": "text/x-python",
   "name": "python",
   "nbconvert_exporter": "python",
   "pygments_lexer": "ipython3",
   "version": "3.7.13"
  }
 },
 "nbformat": 4,
 "nbformat_minor": 5
}
